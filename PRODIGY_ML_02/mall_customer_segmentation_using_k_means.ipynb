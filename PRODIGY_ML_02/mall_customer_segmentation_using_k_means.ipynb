{
 "cells": [
  {
   "cell_type": "code",
   "execution_count": 1,
   "id": "9e589e14",
   "metadata": {
    "execution": {
     "iopub.execute_input": "2024-01-19T15:48:49.437328Z",
     "iopub.status.busy": "2024-01-19T15:48:49.436403Z",
     "iopub.status.idle": "2024-01-19T15:48:51.981779Z",
     "shell.execute_reply": "2024-01-19T15:48:51.980273Z"
    },
    "id": "mL7HLYQFXW-c",
    "papermill": {
     "duration": 2.556826,
     "end_time": "2024-01-19T15:48:51.984750",
     "exception": false,
     "start_time": "2024-01-19T15:48:49.427924",
     "status": "completed"
    },
    "tags": []
   },
   "outputs": [],
   "source": [
    "import numpy as np\n",
    "import pandas as pd\n",
    "import matplotlib.pyplot as plt\n",
    "import seaborn as sns\n",
    "from sklearn.cluster import KMeans"
   ]
  },
  {
   "cell_type": "markdown",
   "id": "91a2724c",
   "metadata": {
    "id": "KigjC6mBLJN3",
    "papermill": {
     "duration": 0.006055,
     "end_time": "2024-01-19T15:48:51.997058",
     "exception": false,
     "start_time": "2024-01-19T15:48:51.991003",
     "status": "completed"
    },
    "tags": []
   },
   "source": [
    "Data Collection & Analysis"
   ]
  },
  {
   "cell_type": "code",
   "execution_count": 2,
   "id": "fa583bbd",
   "metadata": {
    "execution": {
     "iopub.execute_input": "2024-01-19T15:48:52.011945Z",
     "iopub.status.busy": "2024-01-19T15:48:52.010972Z",
     "iopub.status.idle": "2024-01-19T15:48:52.037638Z",
     "shell.execute_reply": "2024-01-19T15:48:52.036571Z"
    },
    "id": "gTSFo2LiLIav",
    "papermill": {
     "duration": 0.036897,
     "end_time": "2024-01-19T15:48:52.040291",
     "exception": false,
     "start_time": "2024-01-19T15:48:52.003394",
     "status": "completed"
    },
    "tags": []
   },
   "outputs": [],
   "source": [
    "customer_data = pd.read_csv('//kaggle/input/customer-segmentation-tutorial-in-python/Mall_Customers.csv')"
   ]
  },
  {
   "cell_type": "code",
   "execution_count": 3,
   "id": "1fa73454",
   "metadata": {
    "execution": {
     "iopub.execute_input": "2024-01-19T15:48:52.054240Z",
     "iopub.status.busy": "2024-01-19T15:48:52.053806Z",
     "iopub.status.idle": "2024-01-19T15:48:52.076322Z",
     "shell.execute_reply": "2024-01-19T15:48:52.075412Z"
    },
    "id": "mbtjztN3Lhcu",
    "outputId": "4b5e3ec9-1784-4918-bece-7616a2305e4b",
    "papermill": {
     "duration": 0.032331,
     "end_time": "2024-01-19T15:48:52.078621",
     "exception": false,
     "start_time": "2024-01-19T15:48:52.046290",
     "status": "completed"
    },
    "tags": []
   },
   "outputs": [
    {
     "data": {
      "text/html": [
       "<div>\n",
       "<style scoped>\n",
       "    .dataframe tbody tr th:only-of-type {\n",
       "        vertical-align: middle;\n",
       "    }\n",
       "\n",
       "    .dataframe tbody tr th {\n",
       "        vertical-align: top;\n",
       "    }\n",
       "\n",
       "    .dataframe thead th {\n",
       "        text-align: right;\n",
       "    }\n",
       "</style>\n",
       "<table border=\"1\" class=\"dataframe\">\n",
       "  <thead>\n",
       "    <tr style=\"text-align: right;\">\n",
       "      <th></th>\n",
       "      <th>CustomerID</th>\n",
       "      <th>Gender</th>\n",
       "      <th>Age</th>\n",
       "      <th>Annual Income (k$)</th>\n",
       "      <th>Spending Score (1-100)</th>\n",
       "    </tr>\n",
       "  </thead>\n",
       "  <tbody>\n",
       "    <tr>\n",
       "      <th>0</th>\n",
       "      <td>1</td>\n",
       "      <td>Male</td>\n",
       "      <td>19</td>\n",
       "      <td>15</td>\n",
       "      <td>39</td>\n",
       "    </tr>\n",
       "    <tr>\n",
       "      <th>1</th>\n",
       "      <td>2</td>\n",
       "      <td>Male</td>\n",
       "      <td>21</td>\n",
       "      <td>15</td>\n",
       "      <td>81</td>\n",
       "    </tr>\n",
       "    <tr>\n",
       "      <th>2</th>\n",
       "      <td>3</td>\n",
       "      <td>Female</td>\n",
       "      <td>20</td>\n",
       "      <td>16</td>\n",
       "      <td>6</td>\n",
       "    </tr>\n",
       "    <tr>\n",
       "      <th>3</th>\n",
       "      <td>4</td>\n",
       "      <td>Female</td>\n",
       "      <td>23</td>\n",
       "      <td>16</td>\n",
       "      <td>77</td>\n",
       "    </tr>\n",
       "    <tr>\n",
       "      <th>4</th>\n",
       "      <td>5</td>\n",
       "      <td>Female</td>\n",
       "      <td>31</td>\n",
       "      <td>17</td>\n",
       "      <td>40</td>\n",
       "    </tr>\n",
       "  </tbody>\n",
       "</table>\n",
       "</div>"
      ],
      "text/plain": [
       "   CustomerID  Gender  Age  Annual Income (k$)  Spending Score (1-100)\n",
       "0           1    Male   19                  15                      39\n",
       "1           2    Male   21                  15                      81\n",
       "2           3  Female   20                  16                       6\n",
       "3           4  Female   23                  16                      77\n",
       "4           5  Female   31                  17                      40"
      ]
     },
     "execution_count": 3,
     "metadata": {},
     "output_type": "execute_result"
    }
   ],
   "source": [
    "customer_data.head()"
   ]
  },
  {
   "cell_type": "code",
   "execution_count": 4,
   "id": "5cbaa4de",
   "metadata": {
    "execution": {
     "iopub.execute_input": "2024-01-19T15:48:52.093314Z",
     "iopub.status.busy": "2024-01-19T15:48:52.092530Z",
     "iopub.status.idle": "2024-01-19T15:48:52.098636Z",
     "shell.execute_reply": "2024-01-19T15:48:52.097812Z"
    },
    "id": "-NWZTDNRLofr",
    "outputId": "5cdb9e6b-20f2-4676-da6c-014dc7b3a38e",
    "papermill": {
     "duration": 0.016107,
     "end_time": "2024-01-19T15:48:52.100845",
     "exception": false,
     "start_time": "2024-01-19T15:48:52.084738",
     "status": "completed"
    },
    "tags": []
   },
   "outputs": [
    {
     "data": {
      "text/plain": [
       "(200, 5)"
      ]
     },
     "execution_count": 4,
     "metadata": {},
     "output_type": "execute_result"
    }
   ],
   "source": [
    "customer_data.shape"
   ]
  },
  {
   "cell_type": "markdown",
   "id": "cb604b7c",
   "metadata": {
    "id": "mDtt8uP0MoiH",
    "papermill": {
     "duration": 0.006338,
     "end_time": "2024-01-19T15:48:52.113577",
     "exception": false,
     "start_time": "2024-01-19T15:48:52.107239",
     "status": "completed"
    },
    "tags": []
   },
   "source": [
    "Choosing the Annual Income Column & Spending Score column"
   ]
  },
  {
   "cell_type": "code",
   "execution_count": 5,
   "id": "f88ef3a6",
   "metadata": {
    "execution": {
     "iopub.execute_input": "2024-01-19T15:48:52.128512Z",
     "iopub.status.busy": "2024-01-19T15:48:52.127751Z",
     "iopub.status.idle": "2024-01-19T15:48:52.139748Z",
     "shell.execute_reply": "2024-01-19T15:48:52.138507Z"
    },
    "id": "-GZMLhdvMXv5",
    "papermill": {
     "duration": 0.022658,
     "end_time": "2024-01-19T15:48:52.142582",
     "exception": false,
     "start_time": "2024-01-19T15:48:52.119924",
     "status": "completed"
    },
    "tags": []
   },
   "outputs": [],
   "source": [
    "X = customer_data.iloc[:,[3,4]].values"
   ]
  },
  {
   "cell_type": "markdown",
   "id": "6174df01",
   "metadata": {
    "id": "LUHCVZWVNVb5",
    "papermill": {
     "duration": 0.005895,
     "end_time": "2024-01-19T15:48:52.154913",
     "exception": false,
     "start_time": "2024-01-19T15:48:52.149018",
     "status": "completed"
    },
    "tags": []
   },
   "source": [
    "Choosing the number of clusters"
   ]
  },
  {
   "cell_type": "markdown",
   "id": "f564a4bb",
   "metadata": {
    "id": "25tFwgnZNiRF",
    "papermill": {
     "duration": 0.005831,
     "end_time": "2024-01-19T15:48:52.166954",
     "exception": false,
     "start_time": "2024-01-19T15:48:52.161123",
     "status": "completed"
    },
    "tags": []
   },
   "source": [
    "WCSS  ->  Within Clusters Sum of Squares"
   ]
  },
  {
   "cell_type": "code",
   "execution_count": 6,
   "id": "4107e399",
   "metadata": {
    "execution": {
     "iopub.execute_input": "2024-01-19T15:48:52.181380Z",
     "iopub.status.busy": "2024-01-19T15:48:52.180943Z",
     "iopub.status.idle": "2024-01-19T15:48:52.487572Z",
     "shell.execute_reply": "2024-01-19T15:48:52.486621Z"
    },
    "id": "LywIm4NDNIG1",
    "papermill": {
     "duration": 0.316951,
     "end_time": "2024-01-19T15:48:52.490249",
     "exception": false,
     "start_time": "2024-01-19T15:48:52.173298",
     "status": "completed"
    },
    "tags": []
   },
   "outputs": [
    {
     "name": "stderr",
     "output_type": "stream",
     "text": [
      "/opt/conda/lib/python3.10/site-packages/sklearn/cluster/_kmeans.py:870: FutureWarning: The default value of `n_init` will change from 10 to 'auto' in 1.4. Set the value of `n_init` explicitly to suppress the warning\n",
      "  warnings.warn(\n",
      "/opt/conda/lib/python3.10/site-packages/sklearn/cluster/_kmeans.py:870: FutureWarning: The default value of `n_init` will change from 10 to 'auto' in 1.4. Set the value of `n_init` explicitly to suppress the warning\n",
      "  warnings.warn(\n",
      "/opt/conda/lib/python3.10/site-packages/sklearn/cluster/_kmeans.py:870: FutureWarning: The default value of `n_init` will change from 10 to 'auto' in 1.4. Set the value of `n_init` explicitly to suppress the warning\n",
      "  warnings.warn(\n",
      "/opt/conda/lib/python3.10/site-packages/sklearn/cluster/_kmeans.py:870: FutureWarning: The default value of `n_init` will change from 10 to 'auto' in 1.4. Set the value of `n_init` explicitly to suppress the warning\n",
      "  warnings.warn(\n",
      "/opt/conda/lib/python3.10/site-packages/sklearn/cluster/_kmeans.py:870: FutureWarning: The default value of `n_init` will change from 10 to 'auto' in 1.4. Set the value of `n_init` explicitly to suppress the warning\n",
      "  warnings.warn(\n",
      "/opt/conda/lib/python3.10/site-packages/sklearn/cluster/_kmeans.py:870: FutureWarning: The default value of `n_init` will change from 10 to 'auto' in 1.4. Set the value of `n_init` explicitly to suppress the warning\n",
      "  warnings.warn(\n",
      "/opt/conda/lib/python3.10/site-packages/sklearn/cluster/_kmeans.py:870: FutureWarning: The default value of `n_init` will change from 10 to 'auto' in 1.4. Set the value of `n_init` explicitly to suppress the warning\n",
      "  warnings.warn(\n",
      "/opt/conda/lib/python3.10/site-packages/sklearn/cluster/_kmeans.py:870: FutureWarning: The default value of `n_init` will change from 10 to 'auto' in 1.4. Set the value of `n_init` explicitly to suppress the warning\n",
      "  warnings.warn(\n",
      "/opt/conda/lib/python3.10/site-packages/sklearn/cluster/_kmeans.py:870: FutureWarning: The default value of `n_init` will change from 10 to 'auto' in 1.4. Set the value of `n_init` explicitly to suppress the warning\n",
      "  warnings.warn(\n",
      "/opt/conda/lib/python3.10/site-packages/sklearn/cluster/_kmeans.py:870: FutureWarning: The default value of `n_init` will change from 10 to 'auto' in 1.4. Set the value of `n_init` explicitly to suppress the warning\n",
      "  warnings.warn(\n"
     ]
    }
   ],
   "source": [
    "# finding wcss value for different number of clusters\n",
    "\n",
    "wcss = []\n",
    "\n",
    "for i in range(1,11):\n",
    "  kmeans = KMeans(n_clusters=i, init='k-means++', random_state=42)\n",
    "  kmeans.fit(X)\n",
    "  wcss.append(kmeans.inertia_)"
   ]
  },
  {
   "cell_type": "code",
   "execution_count": 7,
   "id": "83d4da3e",
   "metadata": {
    "execution": {
     "iopub.execute_input": "2024-01-19T15:48:52.507083Z",
     "iopub.status.busy": "2024-01-19T15:48:52.506626Z",
     "iopub.status.idle": "2024-01-19T15:48:52.907936Z",
     "shell.execute_reply": "2024-01-19T15:48:52.906749Z"
    },
    "id": "1rWLIgxJPXI_",
    "outputId": "fabdc714-dcc6-465d-d84d-fc8d65b8c5dc",
    "papermill": {
     "duration": 0.412933,
     "end_time": "2024-01-19T15:48:52.911002",
     "exception": false,
     "start_time": "2024-01-19T15:48:52.498069",
     "status": "completed"
    },
    "tags": []
   },
   "outputs": [
    {
     "data": {
      "image/png": "[encoded data removed]",
      "text/plain": [
       "<Figure size 640x480 with 1 Axes>"
      ]
     },
     "metadata": {},
     "output_type": "display_data"
    }
   ],
   "source": [
    "# plot an elbow graph\n",
    "\n",
    "sns.set()\n",
    "plt.plot(range(1,11), wcss)\n",
    "plt.title('The Elbow Point Graph')\n",
    "plt.xlabel('Number of Clusters')\n",
    "plt.ylabel('WCSS')\n",
    "plt.show()"
   ]
  },
  {
   "cell_type": "markdown",
   "id": "e999e38a",
   "metadata": {
    "id": "J3DiuWPtQKnU",
    "papermill": {
     "duration": 0.006769,
     "end_time": "2024-01-19T15:48:52.925095",
     "exception": false,
     "start_time": "2024-01-19T15:48:52.918326",
     "status": "completed"
    },
    "tags": []
   },
   "source": [
    "Training the k-Means Clustering Model"
   ]
  },
  {
   "cell_type": "code",
   "execution_count": 8,
   "id": "c822eb4a",
   "metadata": {
    "execution": {
     "iopub.execute_input": "2024-01-19T15:48:52.941553Z",
     "iopub.status.busy": "2024-01-19T15:48:52.941086Z",
     "iopub.status.idle": "2024-01-19T15:48:52.979364Z",
     "shell.execute_reply": "2024-01-19T15:48:52.978298Z"
    },
    "id": "-5S3HwLpPy3h",
    "outputId": "4d008806-2579-4c85-8b65-d53f10f13191",
    "papermill": {
     "duration": 0.049789,
     "end_time": "2024-01-19T15:48:52.982040",
     "exception": false,
     "start_time": "2024-01-19T15:48:52.932251",
     "status": "completed"
    },
    "tags": []
   },
   "outputs": [
    {
     "name": "stdout",
     "output_type": "stream",
     "text": [
      "[3 2 3 2 3 2 3 2 3 2 3 2 3 2 3 2 3 2 3 2 3 2 3 2 3 2 3 2 3 2 3 2 3 2 3 2 3\n",
      " 2 3 2 3 2 3 1 3 2 1 1 1 1 1 1 1 1 1 1 1 1 1 1 1 1 1 1 1 1 1 1 1 1 1 1 1 1\n",
      " 1 1 1 1 1 1 1 1 1 1 1 1 1 1 1 1 1 1 1 1 1 1 1 1 1 1 1 1 1 1 1 1 1 1 1 1 1\n",
      " 1 1 1 1 1 1 1 1 1 1 1 1 0 4 0 1 0 4 0 4 0 1 0 4 0 4 0 4 0 4 0 1 0 4 0 4 0\n",
      " 4 0 4 0 4 0 4 0 4 0 4 0 4 0 4 0 4 0 4 0 4 0 4 0 4 0 4 0 4 0 4 0 4 0 4 0 4\n",
      " 0 4 0 4 0 4 0 4 0 4 0 4 0 4 0]\n"
     ]
    },
    {
     "name": "stderr",
     "output_type": "stream",
     "text": [
      "/opt/conda/lib/python3.10/site-packages/sklearn/cluster/_kmeans.py:870: FutureWarning: The default value of `n_init` will change from 10 to 'auto' in 1.4. Set the value of `n_init` explicitly to suppress the warning\n",
      "  warnings.warn(\n"
     ]
    }
   ],
   "source": [
    "kmeans = KMeans(n_clusters=5, init='k-means++', random_state=21)\n",
    "\n",
    "# return a label for each data point based on their cluster\n",
    "Y = kmeans.fit_predict(X)\n",
    "\n",
    "print(Y)"
   ]
  },
  {
   "cell_type": "markdown",
   "id": "f6a5fd74",
   "metadata": {
    "id": "ehXD5VrDSyuB",
    "papermill": {
     "duration": 0.006946,
     "end_time": "2024-01-19T15:48:52.997097",
     "exception": false,
     "start_time": "2024-01-19T15:48:52.990151",
     "status": "completed"
    },
    "tags": []
   },
   "source": [
    "5 Clusters -  0, 1, 2, 3, 4"
   ]
  },
  {
   "cell_type": "markdown",
   "id": "6c8157fe",
   "metadata": {
    "id": "AfFa2VDQRNcK",
    "papermill": {
     "duration": 0.006899,
     "end_time": "2024-01-19T15:48:53.011327",
     "exception": false,
     "start_time": "2024-01-19T15:48:53.004428",
     "status": "completed"
    },
    "tags": []
   },
   "source": [
    "Visualizing all the Clusters"
   ]
  },
  {
   "cell_type": "code",
   "execution_count": 9,
   "id": "ae60b390",
   "metadata": {
    "execution": {
     "iopub.execute_input": "2024-01-19T15:48:53.028119Z",
     "iopub.status.busy": "2024-01-19T15:48:53.027694Z",
     "iopub.status.idle": "2024-01-19T15:48:53.533091Z",
     "shell.execute_reply": "2024-01-19T15:48:53.531847Z"
    },
    "id": "Tl_Obm0aQ_cU",
    "outputId": "9e554efe-7307-4f24-bbda-7fded2ce0616",
    "papermill": {
     "duration": 0.517754,
     "end_time": "2024-01-19T15:48:53.536327",
     "exception": false,
     "start_time": "2024-01-19T15:48:53.018573",
     "status": "completed"
    },
    "tags": []
   },
   "outputs": [
    {
     "data": {
      "image/png": "[encoded data removed]",
      "text/plain": [
       "<Figure size 800x800 with 1 Axes>"
      ]
     },
     "metadata": {},
     "output_type": "display_data"
    }
   ],
   "source": [
    "# plotting all the clusters and their Centroids\n",
    "\n",
    "plt.figure(figsize=(8,8))\n",
    "plt.scatter(X[Y==0,0], X[Y==0,1], s=50, c='green', label='Cluster 1')\n",
    "plt.scatter(X[Y==1,0], X[Y==1,1], s=50, c='red', label='Cluster 2')\n",
    "plt.scatter(X[Y==2,0], X[Y==2,1], s=50, c='yellow', label='Cluster 3')\n",
    "plt.scatter(X[Y==3,0], X[Y==3,1], s=50, c='violet', label='Cluster 4')\n",
    "plt.scatter(X[Y==4,0], X[Y==4,1], s=50, c='blue', label='Cluster 5')\n",
    "\n",
    "# plot the centroids\n",
    "plt.scatter(kmeans.cluster_centers_[:,0], kmeans.cluster_centers_[:,1], s=100, c='cyan', label='Centroids')\n",
    "\n",
    "plt.title('Customer Groups')\n",
    "plt.xlabel('Annual Income')\n",
    "plt.ylabel('Spending Score')\n",
    "plt.show()"
   ]
  },
  {
   "cell_type": "code",
   "execution_count": null,
   "id": "b7cff383",
   "metadata": {
    "papermill": {
     "duration": 0.007839,
     "end_time": "2024-01-19T15:48:53.552798",
     "exception": false,
     "start_time": "2024-01-19T15:48:53.544959",
     "status": "completed"
    },
    "tags": []
   },
   "outputs": [],
   "source": []
  }
 ],
 "metadata": {
  "colab": {
   "provenance": []
  },
  "kaggle": {
   "accelerator": "none",
   "dataSources": [
    {
     "datasetId": 42674,
     "sourceId": 74935,
     "sourceType": "datasetVersion"
    }
   ],
   "dockerImageVersionId": 30635,
   "isGpuEnabled": false,
   "isInternetEnabled": true,
   "language": "python",
   "sourceType": "notebook"
  },
  "kernelspec": {
   "display_name": "Python 3",
   "language": "python",
   "name": "python3"
  },
  "language_info": {
   "codemirror_mode": {
    "name": "ipython",
    "version": 3
   },
   "file_extension": ".py",
   "mimetype": "text/x-python",
   "name": "python",
   "nbconvert_exporter": "python",
   "pygments_lexer": "ipython3",
   "version": "3.10.12"
  },
  "papermill": {
   "default_parameters": {},
   "duration": 8.450303,
   "end_time": "2024-01-19T15:48:54.283069",
   "environment_variables": {},
   "exception": null,
   "input_path": "__notebook__.ipynb",
   "output_path": "__notebook__.ipynb",
   "parameters": {},
   "start_time": "2024-01-19T15:48:45.832766",
   "version": "2.4.0"
  }
 },
 "nbformat": 4,
 "nbformat_minor": 5
}
